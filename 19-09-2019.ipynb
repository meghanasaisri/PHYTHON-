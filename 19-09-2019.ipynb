{
 "cells": [
  {
   "cell_type": "markdown",
   "metadata": {},
   "source": [
    "# Files concept"
   ]
  },
  {
   "cell_type": "code",
   "execution_count": 1,
   "metadata": {},
   "outputs": [],
   "source": [
    "filepath=\"./files/sample.txt\"\n",
    "with open(filepath,'w') as f:\n",
    "    f.write(\"this is my first line\\n\")\n",
    "    f.write(\"iam in mstp lab\\n\")\n",
    "    f.write(\"iam from guntur\\n\")\n",
    "   \n",
    "    \n"
   ]
  },
  {
   "cell_type": "code",
   "execution_count": 1,
   "metadata": {},
   "outputs": [],
   "source": [
    "filepath=\"./files/sample.txt\"\n",
    "with open(filepath,'a') as f:\n",
    "    f.write(\"third\\n\")\n",
    "    f.write(\"fourth\\n\")"
   ]
  },
  {
   "cell_type": "code",
   "execution_count": 9,
   "metadata": {},
   "outputs": [],
   "source": [
    "filepath=\"./files/meg.txt\"\n",
    "with open(filepath,'w') as f:\n",
    "    f.write(\"third\\n\")\n",
    "    f.write(\"fourth\\n\")\n",
    "    f.write(\"sai\\n\")\n",
    "    f.write(\"sri\\n\")\n",
    "    f.write(\"rishikonda\\n\")\n",
    "   \n",
    "   "
   ]
  },
  {
   "cell_type": "code",
   "execution_count": 11,
   "metadata": {},
   "outputs": [
    {
     "name": "stdout",
     "output_type": "stream",
     "text": [
      "['third\\n', 'fourth\\n', 'sai\\n', 'sri\\n', 'rishikonda\\n']\n",
      "sai\n",
      "\n"
     ]
    }
   ],
   "source": [
    "filepath=\"./files/meg.txt\"\n",
    "with open(filepath,'r') as f:\n",
    "    data=f.readlines()\n",
    "    print(data)\n",
    "    l=list(data)\n",
    "    print(l[2])"
   ]
  },
  {
   "cell_type": "code",
   "execution_count": 13,
   "metadata": {},
   "outputs": [
    {
     "name": "stdout",
     "output_type": "stream",
     "text": [
      "yes\n"
     ]
    }
   ],
   "source": [
    "l=[\"meg\",\"rams\",\"shiv\"]\n",
    "if \"meg\" in l:\n",
    "    print(\"yes\")\n",
    "else:\n",
    "    print(\"no\")"
   ]
  },
  {
   "cell_type": "code",
   "execution_count": 19,
   "metadata": {},
   "outputs": [
    {
     "name": "stdout",
     "output_type": "stream",
     "text": [
      "['meg', 'rams', 'shiv', 'gopi', 'raj', 'asim']\n"
     ]
    }
   ],
   "source": [
    "l=[\"meg\",\"rams\",\"shiv\",\"meg\",\"gopi\",\"raj\",\"asim\"]\n",
    "t=[]\n",
    "for i in l:\n",
    "    if i not in t:\n",
    "        t.append(i)\n",
    "print(t)        "
   ]
  },
  {
   "cell_type": "markdown",
   "metadata": {},
   "source": [
    "# To find upper limit and lower limit"
   ]
  },
  {
   "cell_type": "code",
   "execution_count": 6,
   "metadata": {},
   "outputs": [
    {
     "name": "stdout",
     "output_type": "stream",
     "text": [
      "enter letters 1 20 4\n",
      "5\n"
     ]
    }
   ],
   "source": [
    "n=input(\"enter letters \")\n",
    "c=0\n",
    "t=n.split()\n",
    "l=int(t[0])\n",
    "r=int(t[1])\n",
    "k=int(t[2])\n",
    "for i in range(l,r+1):\n",
    "    if i%k==0:\n",
    "        c=c+1      \n",
    "print(c)"
   ]
  }
 ],
 "metadata": {
  "kernelspec": {
   "display_name": "Python 3",
   "language": "python",
   "name": "python3"
  },
  "language_info": {
   "codemirror_mode": {
    "name": "ipython",
    "version": 3
   },
   "file_extension": ".py",
   "mimetype": "text/x-python",
   "name": "python",
   "nbconvert_exporter": "python",
   "pygments_lexer": "ipython3",
   "version": "3.7.3"
  }
 },
 "nbformat": 4,
 "nbformat_minor": 2
}
