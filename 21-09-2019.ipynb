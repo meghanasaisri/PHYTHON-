{
 "cells": [
  {
   "cell_type": "markdown",
   "metadata": {},
   "source": [
    "# count of lines in file"
   ]
  },
  {
   "cell_type": "code",
   "execution_count": 1,
   "metadata": {},
   "outputs": [
    {
     "name": "stdout",
     "output_type": "stream",
     "text": [
      "9 lines\n"
     ]
    }
   ],
   "source": [
    "filepath=\"./files/sample.txt\"\n",
    "with open(filepath,'r') as f:\n",
    "    f1=f.readlines()\n",
    "    c=len(f1)\n",
    "    print(c,\"lines\")"
   ]
  },
  {
   "cell_type": "markdown",
   "metadata": {},
   "source": [
    "#  count of characters in file"
   ]
  },
  {
   "cell_type": "code",
   "execution_count": 2,
   "metadata": {},
   "outputs": [
    {
     "name": "stdout",
     "output_type": "stream",
     "text": [
      "104 characters\n"
     ]
    }
   ],
   "source": [
    "filepath=\"./files/sample.txt\"\n",
    "with open(filepath,'r') as f:\n",
    "    f1=f.read()\n",
    "    c=len(f1)\n",
    "    print(c,\"characters\")"
   ]
  },
  {
   "cell_type": "markdown",
   "metadata": {},
   "source": [
    "# count of words in a file"
   ]
  },
  {
   "cell_type": "code",
   "execution_count": 3,
   "metadata": {},
   "outputs": [
    {
     "name": "stdout",
     "output_type": "stream",
     "text": [
      "18 words\n"
     ]
    }
   ],
   "source": [
    "filepath=\"./files/sample.txt\"\n",
    "with open(filepath,'r') as f:\n",
    "    f1=str(f.read())\n",
    "    a=f1.split()\n",
    "    c=len(a)\n",
    "    print(c,\"words\")"
   ]
  },
  {
   "cell_type": "code",
   "execution_count": null,
   "metadata": {},
   "outputs": [],
   "source": []
  },
  {
   "cell_type": "code",
   "execution_count": 1,
   "metadata": {},
   "outputs": [
    {
     "name": "stdout",
     "output_type": "stream",
     "text": [
      "enter test cases1\n",
      "2 30 24 3\n",
      "21 27\n"
     ]
    }
   ],
   "source": [
    "t=int(input(\"enter test cases\"))\n",
    "i=1\n",
    "while(i<=t):\n",
    "    n=input().split()\n",
    "    sh=int(n[0])\n",
    "    sm=int(n[1])\n",
    "    eh=int(n[2])\n",
    "    em=int(n[3])\n",
    "    if ((eh and sh<=24)and(em and sm<=60)):\n",
    "        if eh==sh:\n",
    "            a=eh-sh\n",
    "            b=abs(em-sm)\n",
    "            print(a,b)\n",
    "        elif em==sm:\n",
    "            a=eh-sh\n",
    "            b=abs(em-sm)\n",
    "            print(a,b)\n",
    "        else:\n",
    "            a=(eh-1)-sh\n",
    "            b=abs(em-sm)\n",
    "            print(a,b)\n",
    "    else:\n",
    "        print(\"invalid input\")\n",
    "    i=i+1"
   ]
  },
  {
   "cell_type": "code",
   "execution_count": null,
   "metadata": {},
   "outputs": [],
   "source": []
  }
 ],
 "metadata": {
  "kernelspec": {
   "display_name": "Python 3",
   "language": "python",
   "name": "python3"
  },
  "language_info": {
   "codemirror_mode": {
    "name": "ipython",
    "version": 3
   },
   "file_extension": ".py",
   "mimetype": "text/x-python",
   "name": "python",
   "nbconvert_exporter": "python",
   "pygments_lexer": "ipython3",
   "version": "3.7.3"
  }
 },
 "nbformat": 4,
 "nbformat_minor": 2
}
