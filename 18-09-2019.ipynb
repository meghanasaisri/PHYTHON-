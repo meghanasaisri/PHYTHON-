{
 "cells": [
  {
   "cell_type": "markdown",
   "metadata": {},
   "source": [
    "# 7 segment display"
   ]
  },
  {
   "cell_type": "code",
   "execution_count": 6,
   "metadata": {},
   "outputs": [
    {
     "name": "stdout",
     "output_type": "stream",
     "text": [
      "enter a number12\n",
      "7\n"
     ]
    }
   ],
   "source": [
    "d={0:6,1:2,2:5,3:5,4:4,5:5,6:6,7:3,8:7,9:6}\n",
    "s=(input(\"enter a number\"))\n",
    "c=0\n",
    "for i in s:\n",
    "    c=c+d[int(i)]\n",
    "print(c)\n",
    "    "
   ]
  },
  {
   "cell_type": "markdown",
   "metadata": {},
   "source": [
    "# maze"
   ]
  },
  {
   "cell_type": "code",
   "execution_count": null,
   "metadata": {},
   "outputs": [],
   "source": [
    " z={'l':-1,'r':1}\n",
    "a={'u':1,'d':-1}\n",
    "n=0\n",
    "c=0\n",
    "    if (d.keys()=='l'):\n",
    "            x=x-1\n",
    "        elif(d.keys()=='r'):\n",
    "            x=x+1\n",
    "        elif(d.keys()=='u'):\n",
    "            y=y+1\n",
    "        else:\n",
    "            y=y-1\n",
    "    print(x,y)"
   ]
  },
  {
   "cell_type": "code",
   "execution_count": 8,
   "metadata": {},
   "outputs": [
    {
     "name": "stdout",
     "output_type": "stream",
     "text": [
      "1\n",
      "lrdurul\n",
      "0 0\n"
     ]
    }
   ],
   "source": [
    "t=int(input())\n",
    "i=1\n",
    "d={'l':-1,'r':1,'u':1,'d':-1}\n",
    "x=0\n",
    "y=0\n",
    "while(i<=t):\n",
    "    n=(input())\n",
    "    for j in n:\n",
    "        \n",
    "        if (d.keys()=='l'):\n",
    "            x=x-1\n",
    "        elif(d.keys()=='r'):\n",
    "            x=x+1\n",
    "        elif(d.keys()=='u'):\n",
    "            y=y+1\n",
    "        elif(d.keys()=='d'):\n",
    "            y=y-1\n",
    "    print(x,y)\n",
    "    i=i+1\n"
   ]
  },
  {
   "cell_type": "code",
   "execution_count": 10,
   "metadata": {},
   "outputs": [
    {
     "name": "stdout",
     "output_type": "stream",
     "text": [
      "llrddul\n",
      "-2 -1\n"
     ]
    }
   ],
   "source": [
    "t=(input())\n",
    "x=0\n",
    "y=0\n",
    "for i in t:\n",
    "    if (i=='l'):\n",
    "        x=x-1\n",
    "    elif(i=='r'):\n",
    "        x=x+1\n",
    "    elif(i=='u'):\n",
    "        y=y+1\n",
    "    elif(i=='d'):\n",
    "        y=y-1\n",
    "print(x,y)        "
   ]
  },
  {
   "cell_type": "markdown",
   "metadata": {},
   "source": [
    "# files"
   ]
  },
  {
   "cell_type": "code",
   "execution_count": 1,
   "metadata": {},
   "outputs": [],
   "source": [
    "filepath=\"./files/sample.txt\"\n",
    "with open(filepath,'w') as f:\n",
    "    f.write(\"this is my first line\")\n",
    "    f.write(\" ,iam in mstp lab\")\n"
   ]
  },
  {
   "cell_type": "code",
   "execution_count": 2,
   "metadata": {},
   "outputs": [],
   "source": [
    "filepath=\"./files/sample.txt\"\n",
    "with open(filepath,'w') as f:\n",
    "    f.write(\"this is my first line\")\n",
    "    f.write(\" ,iam in mstp lab\")\n"
   ]
  }
 ],
 "metadata": {
  "kernelspec": {
   "display_name": "Python 3",
   "language": "python",
   "name": "python3"
  },
  "language_info": {
   "codemirror_mode": {
    "name": "ipython",
    "version": 3
   },
   "file_extension": ".py",
   "mimetype": "text/x-python",
   "name": "python",
   "nbconvert_exporter": "python",
   "pygments_lexer": "ipython3",
   "version": "3.7.3"
  }
 },
 "nbformat": 4,
 "nbformat_minor": 2
}
