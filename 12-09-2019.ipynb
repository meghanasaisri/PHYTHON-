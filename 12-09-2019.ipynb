{
 "cells": [
  {
   "cell_type": "markdown",
   "metadata": {},
   "source": [
    "# divisible by 6 and not a factor of 100"
   ]
  },
  {
   "cell_type": "code",
   "execution_count": 1,
   "metadata": {},
   "outputs": [
    {
     "name": "stdout",
     "output_type": "stream",
     "text": [
      "value1\n",
      "value50\n",
      "6\n",
      "12\n",
      "18\n",
      "24\n",
      "30\n",
      "36\n",
      "42\n",
      "48\n"
     ]
    }
   ],
   "source": [
    "l=int(input(\"value\"))\n",
    "u=int(input(\"value\"))\n",
    "def divisible(n):\n",
    "    if(n%6==0):\n",
    "        if(100%n!=0):\n",
    "                print(n)\n",
    "for k in range(l,u+1):\n",
    "    divisible(k)"
   ]
  },
  {
   "cell_type": "markdown",
   "metadata": {},
   "source": [
    "# the average of cubes of all even numbers"
   ]
  },
  {
   "cell_type": "code",
   "execution_count": 10,
   "metadata": {},
   "outputs": [
    {
     "name": "stdout",
     "output_type": "stream",
     "text": [
      "value2\n",
      "value4\n",
      "36\n"
     ]
    }
   ],
   "source": [
    "l=int(input(\"value\"))\n",
    "h=int(input(\"value\"))\n",
    "ec=0\n",
    "s=0\n",
    "def avg(m,x,y,s):\n",
    "    for i in range(l,h+1):\n",
    "        if i%2==0:\n",
    "            y=y+1\n",
    "            s=s+(i**3)\n",
    "    res=s/y\n",
    "    print(int(res))\n",
    "avg(l,h,ec,s)"
   ]
  },
  {
   "cell_type": "code",
   "execution_count": 24,
   "metadata": {},
   "outputs": [
    {
     "data": {
      "text/plain": [
       "{'g': 654, 'f': 546, 'a': 53}"
      ]
     },
     "execution_count": 24,
     "metadata": {},
     "output_type": "execute_result"
    }
   ],
   "source": [
    "d={\"g\":654,\"f\":546,\"a\":53}\n",
    "t=d.copy()\n",
    "t.pop(\"a\")\n",
    "d\n"
   ]
  },
  {
   "cell_type": "code",
   "execution_count": 23,
   "metadata": {},
   "outputs": [
    {
     "name": "stdout",
     "output_type": "stream",
     "text": [
      "g 6\n",
      "f 546\n",
      "a 53\n",
      "t 765\n",
      "6 789\n"
     ]
    }
   ],
   "source": [
    "d={\"g\":6,\"f\":546,\"a\":53,\"t\":765,\"6\":789}\n",
    "for (i,j) in d.items():\n",
    "    print(i,j)"
   ]
  },
  {
   "cell_type": "code",
   "execution_count": 25,
   "metadata": {},
   "outputs": [
    {
     "name": "stdout",
     "output_type": "stream",
     "text": [
      "g 654\n",
      "f 546\n",
      "a 53\n",
      "g 654\n",
      "f 546\n",
      "a 53\n",
      "g 654\n",
      "f 546\n",
      "a 53\n"
     ]
    }
   ],
   "source": [
    "i=1\n",
    "while i<4:\n",
    "    for j in d:\n",
    "        print(j,d[j])\n",
    "    i=i+1    "
   ]
  },
  {
   "cell_type": "code",
   "execution_count": null,
   "metadata": {},
   "outputs": [],
   "source": []
  }
 ],
 "metadata": {
  "kernelspec": {
   "display_name": "Python 3",
   "language": "python",
   "name": "python3"
  },
  "language_info": {
   "codemirror_mode": {
    "name": "ipython",
    "version": 3
   },
   "file_extension": ".py",
   "mimetype": "text/x-python",
   "name": "python",
   "nbconvert_exporter": "python",
   "pygments_lexer": "ipython3",
   "version": "3.7.3"
  }
 },
 "nbformat": 4,
 "nbformat_minor": 2
}
