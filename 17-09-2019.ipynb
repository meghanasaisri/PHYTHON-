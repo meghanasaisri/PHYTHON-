{
 "cells": [
  {
   "cell_type": "code",
   "execution_count": 2,
   "metadata": {},
   "outputs": [
    {
     "name": "stdout",
     "output_type": "stream",
     "text": [
      "65\n"
     ]
    }
   ],
   "source": [
    "m= set([1,2,45,65])\n",
    "s=max(m)\n",
    "print(s)"
   ]
  },
  {
   "cell_type": "code",
   "execution_count": 4,
   "metadata": {},
   "outputs": [
    {
     "data": {
      "text/plain": [
       "76575"
      ]
     },
     "execution_count": 4,
     "metadata": {},
     "output_type": "execute_result"
    }
   ],
   "source": [
    "m=set({45,67,234,76575,4,67})\n",
    "l=list(m)\n",
    "l[-1]"
   ]
  },
  {
   "cell_type": "code",
   "execution_count": 6,
   "metadata": {},
   "outputs": [
    {
     "name": "stdout",
     "output_type": "stream",
     "text": [
      "65\n"
     ]
    }
   ],
   "source": [
    "m= set([1,2,45,65,6,4])\n",
    "l=max(m)\n",
    "for i in m:\n",
    "    if i==l:\n",
    "        print(l)\n"
   ]
  },
  {
   "cell_type": "code",
   "execution_count": 4,
   "metadata": {},
   "outputs": [
    {
     "name": "stdout",
     "output_type": "stream",
     "text": [
      "enter how many times2\n",
      "enter floor3\n",
      "a\n",
      "enter floor5\n",
      "a\n"
     ]
    }
   ],
   "source": [
    "t=int(input(\"enter how many times\"))\n",
    "a=0\n",
    "b=7\n",
    "for i in range(t):\n",
    "    n=int(input(\"enter floor\"))\n",
    "    d1=abs(a-n)\n",
    "    d2=abs(b-n)\n",
    "    if d1<=d2:\n",
    "        print(\"a\")\n",
    "        a=n\n",
    "    else:\n",
    "        print(\"b\")\n",
    "        b=n"
   ]
  },
  {
   "cell_type": "markdown",
   "metadata": {},
   "source": [
    "# split a number with a space seperated"
   ]
  },
  {
   "cell_type": "code",
   "execution_count": 3,
   "metadata": {},
   "outputs": [
    {
     "name": "stdout",
     "output_type": "stream",
     "text": [
      "enter how many times2\n",
      "abhi ihba\n",
      "yes\n",
      "megha hseham\n",
      "no\n"
     ]
    }
   ],
   "source": [
    "t=int(input(\"enter how many times\"))\n",
    "for i in range(t):\n",
    "    s=input().split()\n",
    "    s1=sorted(s[0])\n",
    "    s2=sorted(s[1])\n",
    "    if s1==s2:\n",
    "        print(\"yes\")\n",
    "    else:\n",
    "        print(\"no\")\n"
   ]
  },
  {
   "cell_type": "code",
   "execution_count": null,
   "metadata": {},
   "outputs": [],
   "source": []
  }
 ],
 "metadata": {
  "kernelspec": {
   "display_name": "Python 3",
   "language": "python",
   "name": "python3"
  },
  "language_info": {
   "codemirror_mode": {
    "name": "ipython",
    "version": 3
   },
   "file_extension": ".py",
   "mimetype": "text/x-python",
   "name": "python",
   "nbconvert_exporter": "python",
   "pygments_lexer": "ipython3",
   "version": "3.7.3"
  }
 },
 "nbformat": 4,
 "nbformat_minor": 2
}
