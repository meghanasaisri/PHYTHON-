{
 "cells": [
  {
   "cell_type": "code",
   "execution_count": 6,
   "metadata": {},
   "outputs": [],
   "source": [
    "filepath=\"./files/meg.txt\"\n",
    "with open(filepath,'w') as f:\n",
    "    f.write(\"third\\n\")\n",
    "    f.write(\"fourth\\n\")\n",
    "    f.write(\"sai\\n\")\n",
    "    f.write(\"sri\\n\")\n",
    "    f.write(\"rishikonda\\n\")"
   ]
  },
  {
   "cell_type": "markdown",
   "metadata": {},
   "source": [
    "# match stickes"
   ]
  },
  {
   "cell_type": "code",
   "execution_count": 13,
   "metadata": {},
   "outputs": [
    {
     "name": "stdout",
     "output_type": "stream",
     "text": [
      "enter a number12\n",
      "7 1111111\n"
     ]
    }
   ],
   "source": [
    "d={0:6,1:2,2:5,3:5,4:4,5:5,6:6,7:3,8:7,9:6}\n",
    "s=(input(\"enter a number\"))\n",
    "c=0\n",
    "for i in s:\n",
    "    c=c+d[int(i)]\n",
    "if (c%2==0):\n",
    "    print(\"1\"*c)\n",
    "else:\n",
    "    print(\"7\",\"1\"*(c))\n",
    "\n",
    "    "
   ]
  },
  {
   "cell_type": "markdown",
   "metadata": {},
   "source": [
    "# legal ISBN or not"
   ]
  },
  {
   "cell_type": "code",
   "execution_count": 1,
   "metadata": {},
   "outputs": [
    {
     "name": "stdout",
     "output_type": "stream",
     "text": [
      "0764526413\n",
      "198\n",
      "legal ISBN\n"
     ]
    }
   ],
   "source": [
    "n=(input())\n",
    "j=1\n",
    "c=0\n",
    "if (len(n)==10):\n",
    "    for i in n:\n",
    "        c=c+(j*int(i))\n",
    "        j=j+1\n",
    "    print(c)\n",
    "    if(c%11==0):\n",
    "        print(\"legal ISBN\")\n",
    "       \n",
    "else:\n",
    "    print(\"INVALID ISBN\")"
   ]
  }
 ],
 "metadata": {
  "kernelspec": {
   "display_name": "Python 3",
   "language": "python",
   "name": "python3"
  },
  "language_info": {
   "codemirror_mode": {
    "name": "ipython",
    "version": 3
   },
   "file_extension": ".py",
   "mimetype": "text/x-python",
   "name": "python",
   "nbconvert_exporter": "python",
   "pygments_lexer": "ipython3",
   "version": "3.7.3"
  }
 },
 "nbformat": 4,
 "nbformat_minor": 2
}
