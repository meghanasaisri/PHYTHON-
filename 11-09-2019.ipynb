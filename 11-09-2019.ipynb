{
 "cells": [
  {
   "cell_type": "markdown",
   "metadata": {},
   "source": [
    " # reverse of a number"
   ]
  },
  {
   "cell_type": "code",
   "execution_count": 22,
   "metadata": {},
   "outputs": [
    {
     "name": "stdout",
     "output_type": "stream",
     "text": [
      "enter a num1998\n"
     ]
    },
    {
     "data": {
      "text/plain": [
       "'8991'"
      ]
     },
     "execution_count": 22,
     "metadata": {},
     "output_type": "execute_result"
    }
   ],
   "source": [
    "r=(input(\"enter a num\"))\n",
    "r[::-1]\n"
   ]
  },
  {
   "cell_type": "code",
   "execution_count": 23,
   "metadata": {},
   "outputs": [
    {
     "name": "stdout",
     "output_type": "stream",
     "text": [
      "87584654265\n",
      "8\n",
      "7\n",
      "5\n",
      "8\n",
      "4\n",
      "6\n",
      "5\n",
      "4\n",
      "2\n",
      "6\n",
      "5\n"
     ]
    }
   ],
   "source": [
    "n=input()\n",
    "for i in n:\n",
    "    print(i)"
   ]
  },
  {
   "cell_type": "markdown",
   "metadata": {},
   "source": [
    "# perfect number"
   ]
  },
  {
   "cell_type": "code",
   "execution_count": 1,
   "metadata": {},
   "outputs": [
    {
     "name": "stdout",
     "output_type": "stream",
     "text": [
      "enter a lower num1\n",
      "enter a higher num100\n",
      "6\n",
      "28\n"
     ]
    }
   ],
   "source": [
    "lb=(int(input(\"enter a lower num\")))\n",
    "ub=int(input(\"enter a higher num\"))\n",
    "#n=int(intput())\n",
    "s=0\n",
    "def findFactor(n,s):\n",
    "    for i in range(1,n):\n",
    "        if n%i==0:\n",
    "            s=s+i\n",
    "    if s==n:\n",
    "        print(n)\n",
    "for k in range(lb,ub+1):\n",
    "    findFactor(k,s)        "
   ]
  },
  {
   "cell_type": "markdown",
   "metadata": {},
   "source": [
    "# special number"
   ]
  },
  {
   "cell_type": "code",
   "execution_count": 72,
   "metadata": {},
   "outputs": [
    {
     "name": "stdout",
     "output_type": "stream",
     "text": [
      "enter num9\n",
      "enter a correct num\n"
     ]
    }
   ],
   "source": [
    "n=int(input(\"enter num\"))\n",
    "if (n>=10):\n",
    "    f=n//10  \n",
    "    l=n%10\n",
    "    sum=f+l\n",
    "    pro=f*l\n",
    "    if (sum+pro==n):\n",
    "        print(\"spl num\")\n",
    "    else:\n",
    "        print(\"not\")\n",
    "else:\n",
    "    print(\"enter a correct num\")\n",
    "            "
   ]
  },
  {
   "cell_type": "code",
   "execution_count": 1,
   "metadata": {},
   "outputs": [
    {
     "name": "stdout",
     "output_type": "stream",
     "text": [
      "enter num19\n",
      "spl\n"
     ]
    }
   ],
   "source": [
    "n=int(input(\"enter num\"))\n",
    "s=0\n",
    "p=1\n",
    "i=0\n",
    "f=0\n",
    "s1=0\n",
    "def add(f,s1,n,p,s):\n",
    "        f=n//10\n",
    "        s1=n%10\n",
    "        p=f*s1\n",
    "        s=f+s1\n",
    "        i=s+p\n",
    "        return i\n",
    "if(n>=10):\n",
    "    i=add(f,s1,n,p,s)\n",
    "    if(i==n):\n",
    "            print(\"spl\")\n",
    "    else:\n",
    "        print(\"mot spl\")\n",
    "else:\n",
    "    print(\"enter correct num\")\n",
    "    "
   ]
  },
  {
   "cell_type": "code",
   "execution_count": 2,
   "metadata": {},
   "outputs": [
    {
     "name": "stdout",
     "output_type": "stream",
     "text": [
      "5\n",
      "not\n"
     ]
    }
   ],
   "source": [
    "n=input()\n",
    "s=0\n",
    "p=1\n",
    "for i in n:\n",
    "    s=s+int(i)\n",
    "    p=p*int(i)\n",
    "res=s+p\n",
    "if res==int(n):\n",
    "    print(\"spl\")\n",
    "else:\n",
    "    print(\"not\")"
   ]
  },
  {
   "cell_type": "markdown",
   "metadata": {},
   "source": [
    "# prime number in a range"
   ]
  },
  {
   "cell_type": "code",
   "execution_count": 18,
   "metadata": {},
   "outputs": [
    {
     "name": "stdout",
     "output_type": "stream",
     "text": [
      "enter a lower num0\n",
      "enter a higher num10\n",
      "2\n",
      "3\n",
      "5\n",
      "7\n"
     ]
    }
   ],
   "source": [
    "lb=(int(input(\"enter a lower num\")))\n",
    "ub=int(input(\"enter a higher num\"))\n",
    "#n=int(intput())\n",
    "s=0\n",
    "def findFactor(n,s):\n",
    "    for i in range(1,n+1):\n",
    "        if n%i==0:\n",
    "            s=s+1\n",
    "    if s==2:\n",
    "        print(n)\n",
    "for k in range(lb,ub+1):\n",
    "    findFactor(k,s)        "
   ]
  },
  {
   "cell_type": "code",
   "execution_count": null,
   "metadata": {},
   "outputs": [],
   "source": []
  }
 ],
 "metadata": {
  "kernelspec": {
   "display_name": "Python 3",
   "language": "python",
   "name": "python3"
  },
  "language_info": {
   "codemirror_mode": {
    "name": "ipython",
    "version": 3
   },
   "file_extension": ".py",
   "mimetype": "text/x-python",
   "name": "python",
   "nbconvert_exporter": "python",
   "pygments_lexer": "ipython3",
   "version": "3.7.3"
  }
 },
 "nbformat": 4,
 "nbformat_minor": 2
}
